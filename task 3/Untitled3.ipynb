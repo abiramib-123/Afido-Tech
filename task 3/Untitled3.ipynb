{
  "nbformat": 4,
  "nbformat_minor": 0,
  "metadata": {
    "colab": {
      "provenance": []
    },
    "kernelspec": {
      "name": "python3",
      "display_name": "Python 3"
    },
    "language_info": {
      "name": "python"
    }
  },
  "cells": [
    {
      "cell_type": "code",
      "source": [
        "from google.colab import files\n",
        "uploaded = files.upload()"
      ],
      "metadata": {
        "colab": {
          "base_uri": "https://localhost:8080/",
          "height": 73
        },
        "id": "OmIREwT2Ptz6",
        "outputId": "a7b80336-f16b-47b0-a626-dba87ced78ea"
      },
      "execution_count": 7,
      "outputs": [
        {
          "output_type": "display_data",
          "data": {
            "text/plain": [
              "<IPython.core.display.HTML object>"
            ],
            "text/html": [
              "\n",
              "     <input type=\"file\" id=\"files-89a24518-234a-450d-a347-e82a3234044e\" name=\"files[]\" multiple disabled\n",
              "        style=\"border:none\" />\n",
              "     <output id=\"result-89a24518-234a-450d-a347-e82a3234044e\">\n",
              "      Upload widget is only available when the cell has been executed in the\n",
              "      current browser session. Please rerun this cell to enable.\n",
              "      </output>\n",
              "      <script>// Copyright 2017 Google LLC\n",
              "//\n",
              "// Licensed under the Apache License, Version 2.0 (the \"License\");\n",
              "// you may not use this file except in compliance with the License.\n",
              "// You may obtain a copy of the License at\n",
              "//\n",
              "//      http://www.apache.org/licenses/LICENSE-2.0\n",
              "//\n",
              "// Unless required by applicable law or agreed to in writing, software\n",
              "// distributed under the License is distributed on an \"AS IS\" BASIS,\n",
              "// WITHOUT WARRANTIES OR CONDITIONS OF ANY KIND, either express or implied.\n",
              "// See the License for the specific language governing permissions and\n",
              "// limitations under the License.\n",
              "\n",
              "/**\n",
              " * @fileoverview Helpers for google.colab Python module.\n",
              " */\n",
              "(function(scope) {\n",
              "function span(text, styleAttributes = {}) {\n",
              "  const element = document.createElement('span');\n",
              "  element.textContent = text;\n",
              "  for (const key of Object.keys(styleAttributes)) {\n",
              "    element.style[key] = styleAttributes[key];\n",
              "  }\n",
              "  return element;\n",
              "}\n",
              "\n",
              "// Max number of bytes which will be uploaded at a time.\n",
              "const MAX_PAYLOAD_SIZE = 100 * 1024;\n",
              "\n",
              "function _uploadFiles(inputId, outputId) {\n",
              "  const steps = uploadFilesStep(inputId, outputId);\n",
              "  const outputElement = document.getElementById(outputId);\n",
              "  // Cache steps on the outputElement to make it available for the next call\n",
              "  // to uploadFilesContinue from Python.\n",
              "  outputElement.steps = steps;\n",
              "\n",
              "  return _uploadFilesContinue(outputId);\n",
              "}\n",
              "\n",
              "// This is roughly an async generator (not supported in the browser yet),\n",
              "// where there are multiple asynchronous steps and the Python side is going\n",
              "// to poll for completion of each step.\n",
              "// This uses a Promise to block the python side on completion of each step,\n",
              "// then passes the result of the previous step as the input to the next step.\n",
              "function _uploadFilesContinue(outputId) {\n",
              "  const outputElement = document.getElementById(outputId);\n",
              "  const steps = outputElement.steps;\n",
              "\n",
              "  const next = steps.next(outputElement.lastPromiseValue);\n",
              "  return Promise.resolve(next.value.promise).then((value) => {\n",
              "    // Cache the last promise value to make it available to the next\n",
              "    // step of the generator.\n",
              "    outputElement.lastPromiseValue = value;\n",
              "    return next.value.response;\n",
              "  });\n",
              "}\n",
              "\n",
              "/**\n",
              " * Generator function which is called between each async step of the upload\n",
              " * process.\n",
              " * @param {string} inputId Element ID of the input file picker element.\n",
              " * @param {string} outputId Element ID of the output display.\n",
              " * @return {!Iterable<!Object>} Iterable of next steps.\n",
              " */\n",
              "function* uploadFilesStep(inputId, outputId) {\n",
              "  const inputElement = document.getElementById(inputId);\n",
              "  inputElement.disabled = false;\n",
              "\n",
              "  const outputElement = document.getElementById(outputId);\n",
              "  outputElement.innerHTML = '';\n",
              "\n",
              "  const pickedPromise = new Promise((resolve) => {\n",
              "    inputElement.addEventListener('change', (e) => {\n",
              "      resolve(e.target.files);\n",
              "    });\n",
              "  });\n",
              "\n",
              "  const cancel = document.createElement('button');\n",
              "  inputElement.parentElement.appendChild(cancel);\n",
              "  cancel.textContent = 'Cancel upload';\n",
              "  const cancelPromise = new Promise((resolve) => {\n",
              "    cancel.onclick = () => {\n",
              "      resolve(null);\n",
              "    };\n",
              "  });\n",
              "\n",
              "  // Wait for the user to pick the files.\n",
              "  const files = yield {\n",
              "    promise: Promise.race([pickedPromise, cancelPromise]),\n",
              "    response: {\n",
              "      action: 'starting',\n",
              "    }\n",
              "  };\n",
              "\n",
              "  cancel.remove();\n",
              "\n",
              "  // Disable the input element since further picks are not allowed.\n",
              "  inputElement.disabled = true;\n",
              "\n",
              "  if (!files) {\n",
              "    return {\n",
              "      response: {\n",
              "        action: 'complete',\n",
              "      }\n",
              "    };\n",
              "  }\n",
              "\n",
              "  for (const file of files) {\n",
              "    const li = document.createElement('li');\n",
              "    li.append(span(file.name, {fontWeight: 'bold'}));\n",
              "    li.append(span(\n",
              "        `(${file.type || 'n/a'}) - ${file.size} bytes, ` +\n",
              "        `last modified: ${\n",
              "            file.lastModifiedDate ? file.lastModifiedDate.toLocaleDateString() :\n",
              "                                    'n/a'} - `));\n",
              "    const percent = span('0% done');\n",
              "    li.appendChild(percent);\n",
              "\n",
              "    outputElement.appendChild(li);\n",
              "\n",
              "    const fileDataPromise = new Promise((resolve) => {\n",
              "      const reader = new FileReader();\n",
              "      reader.onload = (e) => {\n",
              "        resolve(e.target.result);\n",
              "      };\n",
              "      reader.readAsArrayBuffer(file);\n",
              "    });\n",
              "    // Wait for the data to be ready.\n",
              "    let fileData = yield {\n",
              "      promise: fileDataPromise,\n",
              "      response: {\n",
              "        action: 'continue',\n",
              "      }\n",
              "    };\n",
              "\n",
              "    // Use a chunked sending to avoid message size limits. See b/62115660.\n",
              "    let position = 0;\n",
              "    do {\n",
              "      const length = Math.min(fileData.byteLength - position, MAX_PAYLOAD_SIZE);\n",
              "      const chunk = new Uint8Array(fileData, position, length);\n",
              "      position += length;\n",
              "\n",
              "      const base64 = btoa(String.fromCharCode.apply(null, chunk));\n",
              "      yield {\n",
              "        response: {\n",
              "          action: 'append',\n",
              "          file: file.name,\n",
              "          data: base64,\n",
              "        },\n",
              "      };\n",
              "\n",
              "      let percentDone = fileData.byteLength === 0 ?\n",
              "          100 :\n",
              "          Math.round((position / fileData.byteLength) * 100);\n",
              "      percent.textContent = `${percentDone}% done`;\n",
              "\n",
              "    } while (position < fileData.byteLength);\n",
              "  }\n",
              "\n",
              "  // All done.\n",
              "  yield {\n",
              "    response: {\n",
              "      action: 'complete',\n",
              "    }\n",
              "  };\n",
              "}\n",
              "\n",
              "scope.google = scope.google || {};\n",
              "scope.google.colab = scope.google.colab || {};\n",
              "scope.google.colab._files = {\n",
              "  _uploadFiles,\n",
              "  _uploadFilesContinue,\n",
              "};\n",
              "})(self);\n",
              "</script> "
            ]
          },
          "metadata": {}
        },
        {
          "output_type": "stream",
          "name": "stdout",
          "text": [
            "Saving traffic.csv to traffic (1).csv\n"
          ]
        }
      ]
    },
    {
      "cell_type": "code",
      "source": [
        "import pandas as pd\n",
        "\n",
        "# Load the uploaded file\n",
        "df = pd.read_csv('traffic.csv')\n",
        "\n",
        "# Display structure\n",
        "print(df.info())\n",
        "print(df.head())"
      ],
      "metadata": {
        "colab": {
          "base_uri": "https://localhost:8080/"
        },
        "id": "afcEDtyOQKUu",
        "outputId": "8de8568a-2b90-4b9a-b85e-3f315c32ceef"
      },
      "execution_count": 8,
      "outputs": [
        {
          "output_type": "stream",
          "name": "stdout",
          "text": [
            "<class 'pandas.core.frame.DataFrame'>\n",
            "RangeIndex: 226278 entries, 0 to 226277\n",
            "Data columns (total 9 columns):\n",
            " #   Column   Non-Null Count   Dtype \n",
            "---  ------   --------------   ----- \n",
            " 0   event    226278 non-null  object\n",
            " 1   date     226278 non-null  object\n",
            " 2   country  226267 non-null  object\n",
            " 3   city     226267 non-null  object\n",
            " 4   artist   226241 non-null  object\n",
            " 5   album    226273 non-null  object\n",
            " 6   track    226273 non-null  object\n",
            " 7   isrc     219157 non-null  object\n",
            " 8   linkid   226278 non-null  object\n",
            "dtypes: object(9)\n",
            "memory usage: 15.5+ MB\n",
            "None\n",
            "   event        date       country      city  \\\n",
            "0  click  2021-08-21  Saudi Arabia    Jeddah   \n",
            "1  click  2021-08-21  Saudi Arabia    Jeddah   \n",
            "2  click  2021-08-21         India  Ludhiana   \n",
            "3  click  2021-08-21        France   Unknown   \n",
            "4  click  2021-08-21      Maldives      Malé   \n",
            "\n",
            "                              artist          album          track  \\\n",
            "0                             Tesher    Jalebi Baby    Jalebi Baby   \n",
            "1                             Tesher    Jalebi Baby    Jalebi Baby   \n",
            "2                      Reyanna Maria      So Pretty      So Pretty   \n",
            "3  Simone & Simaria, Sebastian Yatra  No Llores Más  No Llores Más   \n",
            "4                             Tesher    Jalebi Baby    Jalebi Baby   \n",
            "\n",
            "           isrc                                linkid  \n",
            "0  QZNWQ2070741  2d896d31-97b6-4869-967b-1c5fb9cd4bb8  \n",
            "1  QZNWQ2070741  2d896d31-97b6-4869-967b-1c5fb9cd4bb8  \n",
            "2  USUM72100871  23199824-9cf5-4b98-942a-34965c3b0cc2  \n",
            "3  BRUM72003904  35573248-4e49-47c7-af80-08a960fa74cd  \n",
            "4  QZNWQ2070741  2d896d31-97b6-4869-967b-1c5fb9cd4bb8  \n"
          ]
        }
      ]
    },
    {
      "cell_type": "code",
      "source": [
        "# Check for missing values\n",
        "print(df.isnull().sum())\n",
        "\n",
        "# Drop rows missing key geographic or artist info\n",
        "df = df.dropna(subset=['country', 'city', 'artist'])\n",
        "\n",
        "# Convert 'date' to datetime\n",
        "df['date'] = pd.to_datetime(df['date'])\n",
        "\n",
        "# Fill other missing values with 'Unknown'\n",
        "df = df.fillna('Unknown')"
      ],
      "metadata": {
        "colab": {
          "base_uri": "https://localhost:8080/"
        },
        "id": "gWzxp81aQNu2",
        "outputId": "0a335bfd-2d4c-4e10-9b7a-4b85b9828e16"
      },
      "execution_count": 9,
      "outputs": [
        {
          "output_type": "stream",
          "name": "stdout",
          "text": [
            "event         0\n",
            "date          0\n",
            "country      11\n",
            "city         11\n",
            "artist       37\n",
            "album         5\n",
            "track         5\n",
            "isrc       7121\n",
            "linkid        0\n",
            "dtype: int64\n"
          ]
        }
      ]
    },
    {
      "cell_type": "code",
      "source": [
        "# Top 10 countries\n",
        "print(\"Top 10 Countries:\\n\", df['country'].value_counts().head(10))\n",
        "\n",
        "# Top 10 cities\n",
        "print(\"Top 10 Cities:\\n\", df['city'].value_counts().head(10))\n",
        "\n",
        "# Top 10 artists\n",
        "print(\"Top 10 Artists:\\n\", df['artist'].value_counts().head(10))\n",
        "\n",
        "# Time period covered\n",
        "print(\"Date range:\", df['date'].min(), \"to\", df['date'].max())"
      ],
      "metadata": {
        "colab": {
          "base_uri": "https://localhost:8080/"
        },
        "id": "aXu7z2XeQTut",
        "outputId": "a74b4f1e-91e9-4abd-b0ab-c043c4d26c1e"
      },
      "execution_count": 10,
      "outputs": [
        {
          "output_type": "stream",
          "name": "stdout",
          "text": [
            "Top 10 Countries:\n",
            " country\n",
            "Saudi Arabia            47334\n",
            "India                   42992\n",
            "United States           32525\n",
            "France                  15661\n",
            "Iraq                     8260\n",
            "United Kingdom           5970\n",
            "Pakistan                 5644\n",
            "Germany                  4792\n",
            "United Arab Emirates     3702\n",
            "Turkey                   3514\n",
            "Name: count, dtype: int64\n",
            "Top 10 Cities:\n",
            " city\n",
            "Jeddah         22791\n",
            "Riyadh         17454\n",
            "Unknown        16653\n",
            "Hyderabad       3682\n",
            "Dammam          3276\n",
            "Erbil           3105\n",
            "Kuwait City     3010\n",
            "Lucknow         2808\n",
            "Muscat          2717\n",
            "Delhi           2567\n",
            "Name: count, dtype: int64\n",
            "Top 10 Artists:\n",
            " artist\n",
            "Tesher                                                          40841\n",
            "Anne-Marie                                                      10650\n",
            "Tundra Beats                                                     9751\n",
            "Surf Mesa, Emilee                                                7533\n",
            "DMNDS, Strange Fruits Music, Fallen Roses, Lujavo, Nito-Onna     5512\n",
            "Reyanna Maria                                                    5434\n",
            "Shawn Mendes, Tainy                                              5409\n",
            "50 Cent, Olivia                                                  5367\n",
            "Roddy Ricch                                                      5093\n",
            "Olivia Rodrigo                                                   4115\n",
            "Name: count, dtype: int64\n",
            "Date range: 2021-08-19 00:00:00 to 2021-08-25 00:00:00\n"
          ]
        }
      ]
    },
    {
      "cell_type": "code",
      "source": [
        "import matplotlib.pyplot as plt\n",
        "\n",
        "daily_traffic = df.groupby('date').size()\n",
        "\n",
        "plt.figure(figsize=(12,6))\n",
        "daily_traffic.plot()\n",
        "plt.title(\"Daily Website Clicks\")\n",
        "plt.xlabel(\"Date\")\n",
        "plt.ylabel(\"Number of Clicks\")\n",
        "plt.grid(True)\n",
        "plt.show()"
      ],
      "metadata": {
        "colab": {
          "base_uri": "https://localhost:8080/",
          "height": 500
        },
        "id": "DmVLQRj3QZXh",
        "outputId": "1403b973-ac25-4bdb-e765-9a52e42b77a7"
      },
      "execution_count": 11,
      "outputs": [
        {
          "output_type": "display_data",
          "data": {
            "text/plain": [
              "<Figure size 1200x600 with 1 Axes>"
            ],
            "image/png": "[encoded data removed]"
          },
          "metadata": {}
        }
      ]
    },
    {
      "cell_type": "code",
      "source": [
        "import seaborn as sns\n",
        "\n",
        "top_countries = df['country'].value_counts().head(10)\n",
        "\n",
        "plt.figure(figsize=(10,6))\n",
        "sns.barplot(x=top_countries.values, y=top_countries.index, palette='viridis')\n",
        "plt.title(\"Top 10 Countries by Website Clicks\")\n",
        "plt.xlabel(\"Clicks\")\n",
        "plt.ylabel(\"Country\")\n",
        "plt.show()"
      ],
      "metadata": {
        "colab": {
          "base_uri": "https://localhost:8080/",
          "height": 606
        },
        "id": "pJbjdBiMQfiy",
        "outputId": "8e19ccec-c48a-46ef-a4a1-8863d662ed9c"
      },
      "execution_count": 12,
      "outputs": [
        {
          "output_type": "stream",
          "name": "stderr",
          "text": [
            "/tmp/ipython-input-12-1643980605.py:6: FutureWarning: \n",
            "\n",
            "Passing `palette` without assigning `hue` is deprecated and will be removed in v0.14.0. Assign the `y` variable to `hue` and set `legend=False` for the same effect.\n",
            "\n",
            "  sns.barplot(x=top_countries.values, y=top_countries.index, palette='viridis')\n"
          ]
        },
        {
          "output_type": "display_data",
          "data": {
            "text/plain": [
              "<Figure size 1000x600 with 1 Axes>"
            ],
            "image/png": "[encoded data removed]"
          },
          "metadata": {}
        }
      ]
    },
    {
      "cell_type": "code",
      "source": [
        "print(\"Top 10 Tracks:\\n\", df['track'].value_counts().head(10))\n",
        "print(\"\\nTop 10 Albums:\\n\", df['album'].value_counts().head(10))\n",
        "print(\"\\nTop 10 Artists:\\n\", df['artist'].value_counts().head(10))"
      ],
      "metadata": {
        "colab": {
          "base_uri": "https://localhost:8080/"
        },
        "id": "80Y8br_9Q01m",
        "outputId": "1b1939f6-2b30-4738-b01f-20db0d17d601"
      },
      "execution_count": 13,
      "outputs": [
        {
          "output_type": "stream",
          "name": "stdout",
          "text": [
            "Top 10 Tracks:\n",
            " track\n",
            "Jalebi Baby                              40841\n",
            "Beautiful                                10658\n",
            "Beautiful Day                             9751\n",
            "ily (i love you baby) (feat. Emilee)      7533\n",
            "So Pretty                                 5661\n",
            "Calabria (feat. Lujavo & Nito-Onna)       5512\n",
            "Summer of Love (Shawn Mendes & Tainy)     5409\n",
            "Candy Shop                                5375\n",
            "Late At Night                             5036\n",
            "Build a Bitch                             3879\n",
            "Name: count, dtype: int64\n",
            "\n",
            "Top 10 Albums:\n",
            " album\n",
            "Jalebi Baby                             40841\n",
            "Beautiful                               10649\n",
            "Beautiful Day                            9750\n",
            "ily (i love you baby) (feat. Emilee)     7533\n",
            "The Massacre                             5984\n",
            "So Pretty                                5661\n",
            "Calabria (feat. Lujavo & Nito-Onna)      5512\n",
            "Summer Of Love                           5409\n",
            "Late At Night                            5036\n",
            "SOUR                                     3891\n",
            "Name: count, dtype: int64\n",
            "\n",
            "Top 10 Artists:\n",
            " artist\n",
            "Tesher                                                          40841\n",
            "Anne-Marie                                                      10650\n",
            "Tundra Beats                                                     9751\n",
            "Surf Mesa, Emilee                                                7533\n",
            "DMNDS, Strange Fruits Music, Fallen Roses, Lujavo, Nito-Onna     5512\n",
            "Reyanna Maria                                                    5434\n",
            "Shawn Mendes, Tainy                                              5409\n",
            "50 Cent, Olivia                                                  5367\n",
            "Roddy Ricch                                                      5093\n",
            "Olivia Rodrigo                                                   4115\n",
            "Name: count, dtype: int64\n"
          ]
        }
      ]
    },
    {
      "cell_type": "code",
      "source": [
        "df.to_csv('cleaned_traffic.csv', index=False)\n",
        "from google.colab import files\n",
        "files.download('cleaned_traffic.csv')"
      ],
      "metadata": {
        "colab": {
          "base_uri": "https://localhost:8080/",
          "height": 17
        },
        "id": "r4bkNYRGQ12l",
        "outputId": "1a7f3cde-2f11-4dce-faa0-1c0d416a04f5"
      },
      "execution_count": 14,
      "outputs": [
        {
          "output_type": "display_data",
          "data": {
            "text/plain": [
              "<IPython.core.display.Javascript object>"
            ],
            "application/javascript": [
              "\n",
              "    async function download(id, filename, size) {\n",
              "      if (!google.colab.kernel.accessAllowed) {\n",
              "        return;\n",
              "      }\n",
              "      const div = document.createElement('div');\n",
              "      const label = document.createElement('label');\n",
              "      label.textContent = `Downloading \"${filename}\": `;\n",
              "      div.appendChild(label);\n",
              "      const progress = document.createElement('progress');\n",
              "      progress.max = size;\n",
              "      div.appendChild(progress);\n",
              "      document.body.appendChild(div);\n",
              "\n",
              "      const buffers = [];\n",
              "      let downloaded = 0;\n",
              "\n",
              "      const channel = await google.colab.kernel.comms.open(id);\n",
              "      // Send a message to notify the kernel that we're ready.\n",
              "      channel.send({})\n",
              "\n",
              "      for await (const message of channel.messages) {\n",
              "        // Send a message to notify the kernel that we're ready.\n",
              "        channel.send({})\n",
              "        if (message.buffers) {\n",
              "          for (const buffer of message.buffers) {\n",
              "            buffers.push(buffer);\n",
              "            downloaded += buffer.byteLength;\n",
              "            progress.value = downloaded;\n",
              "          }\n",
              "        }\n",
              "      }\n",
              "      const blob = new Blob(buffers, {type: 'application/binary'});\n",
              "      const a = document.createElement('a');\n",
              "      a.href = window.URL.createObjectURL(blob);\n",
              "      a.download = filename;\n",
              "      div.appendChild(a);\n",
              "      a.click();\n",
              "      div.remove();\n",
              "    }\n",
              "  "
            ]
          },
          "metadata": {}
        },
        {
          "output_type": "display_data",
          "data": {
            "text/plain": [
              "<IPython.core.display.Javascript object>"
            ],
            "application/javascript": [
              "download(\"download_74f85f5e-e36c-4fc3-904d-897ea48e19ba\", \"cleaned_traffic.csv\", 30674504)"
            ]
          },
          "metadata": {}
        }
      ]
    }
  ]
}